{
 "cells": [
  {
   "cell_type": "code",
   "execution_count": 32,
   "id": "d6922f2c",
   "metadata": {},
   "outputs": [
    {
     "name": "stderr",
     "output_type": "stream",
     "text": [
      "[nltk_data] Downloading package wordnet to\n",
      "[nltk_data]     C:\\Users\\zjshe\\AppData\\Roaming\\nltk_data...\n",
      "[nltk_data]   Package wordnet is already up-to-date!\n",
      "[nltk_data] Downloading package punkt to\n",
      "[nltk_data]     C:\\Users\\zjshe\\AppData\\Roaming\\nltk_data...\n",
      "[nltk_data]   Package punkt is already up-to-date!\n"
     ]
    },
    {
     "data": {
      "text/plain": [
       "True"
      ]
     },
     "execution_count": 32,
     "metadata": {},
     "output_type": "execute_result"
    }
   ],
   "source": [
    "#Preliminaries\n",
    "import os\n",
    "from os import path\n",
    "from os.path import isfile, join\n",
    "from collections import defaultdict\n",
    "import sys\n",
    "import re\n",
    "import json\n",
    "import string\n",
    "import nltk\n",
    "from nltk.tokenize import word_tokenize\n",
    "from nltk.stem import PorterStemmer\n",
    "from nltk.tokenize import TweetTokenizer\n",
    "from nltk.stem import WordNetLemmatizer\n",
    "\n",
    "nltk.download('wordnet')\n",
    "nltk.download('punkt')"
   ]
  },
  {
   "cell_type": "code",
   "execution_count": 74,
   "id": "fc8e4047",
   "metadata": {
    "scrolled": false
   },
   "outputs": [
    {
     "ename": "PermissionError",
     "evalue": "[Errno 13] Permission denied: '/Users/zjshe/Documents/01. ECU MS CS/02. Spring 2022/02. CSCI 6030/03. Assignments/02. Programming Assignments/02-programming-assignment/All Files'",
     "output_type": "error",
     "traceback": [
      "\u001b[1;31m---------------------------------------------------------------------------\u001b[0m",
      "\u001b[1;31mPermissionError\u001b[0m                           Traceback (most recent call last)",
      "\u001b[1;32m~\\AppData\\Local\\Temp/ipykernel_42768/1237352187.py\u001b[0m in \u001b[0;36m<module>\u001b[1;34m\u001b[0m\n\u001b[0;32m    106\u001b[0m \u001b[1;33m\u001b[0m\u001b[0m\n\u001b[0;32m    107\u001b[0m \u001b[1;32mif\u001b[0m \u001b[0m__name__\u001b[0m \u001b[1;33m==\u001b[0m \u001b[1;34m\"__main__\"\u001b[0m\u001b[1;33m:\u001b[0m\u001b[1;33m\u001b[0m\u001b[1;33m\u001b[0m\u001b[0m\n\u001b[1;32m--> 108\u001b[1;33m     \u001b[0mmain\u001b[0m\u001b[1;33m(\u001b[0m\u001b[1;33m)\u001b[0m\u001b[1;33m\u001b[0m\u001b[1;33m\u001b[0m\u001b[0m\n\u001b[0m",
      "\u001b[1;32m~\\AppData\\Local\\Temp/ipykernel_42768/1237352187.py\u001b[0m in \u001b[0;36mmain\u001b[1;34m()\u001b[0m\n\u001b[0;32m     89\u001b[0m \u001b[1;33m\u001b[0m\u001b[0m\n\u001b[0;32m     90\u001b[0m \u001b[1;32mdef\u001b[0m \u001b[0mmain\u001b[0m\u001b[1;33m(\u001b[0m\u001b[1;33m)\u001b[0m\u001b[1;33m:\u001b[0m\u001b[1;33m\u001b[0m\u001b[1;33m\u001b[0m\u001b[0m\n\u001b[1;32m---> 91\u001b[1;33m     \u001b[0mpInvertedIndex\u001b[0m \u001b[1;33m=\u001b[0m \u001b[0mpositionalInvertedIndexCreation\u001b[0m\u001b[1;33m(\u001b[0m\u001b[1;33m)\u001b[0m\u001b[1;33m\u001b[0m\u001b[1;33m\u001b[0m\u001b[0m\n\u001b[0m\u001b[0;32m     92\u001b[0m     \u001b[0mtupleOfPII\u001b[0m \u001b[1;33m=\u001b[0m \u001b[0mprintPositionalInvertedIndex\u001b[0m\u001b[1;33m(\u001b[0m\u001b[0mpInvertedIndex\u001b[0m\u001b[1;33m)\u001b[0m\u001b[1;33m\u001b[0m\u001b[1;33m\u001b[0m\u001b[0m\n\u001b[0;32m     93\u001b[0m     \u001b[0mprint\u001b[0m\u001b[1;33m(\u001b[0m\u001b[0mpInvertedIndex\u001b[0m\u001b[1;33m)\u001b[0m\u001b[1;33m\u001b[0m\u001b[1;33m\u001b[0m\u001b[0m\n",
      "\u001b[1;32m~\\AppData\\Local\\Temp/ipykernel_42768/1237352187.py\u001b[0m in \u001b[0;36mpositionalInvertedIndexCreation\u001b[1;34m()\u001b[0m\n\u001b[0;32m     34\u001b[0m     \u001b[1;31m#This function is used for creation of positional inverted index on the basis of given dataset path#\u001b[0m\u001b[1;33m\u001b[0m\u001b[1;33m\u001b[0m\u001b[0m\n\u001b[0;32m     35\u001b[0m \u001b[1;33m\u001b[0m\u001b[0m\n\u001b[1;32m---> 36\u001b[1;33m     \u001b[1;32mwith\u001b[0m \u001b[0mopen\u001b[0m\u001b[1;33m(\u001b[0m\u001b[0mdir_path\u001b[0m\u001b[1;33m,\u001b[0m\u001b[1;34m\"r\"\u001b[0m\u001b[1;33m)\u001b[0m \u001b[1;32mas\u001b[0m \u001b[0mdocument\u001b[0m\u001b[1;33m:\u001b[0m\u001b[1;33m\u001b[0m\u001b[1;33m\u001b[0m\u001b[0m\n\u001b[0m\u001b[0;32m     37\u001b[0m         \u001b[0mcontent\u001b[0m \u001b[1;33m=\u001b[0m \u001b[0mdocument\u001b[0m\u001b[1;33m.\u001b[0m\u001b[0mread\u001b[0m\u001b[1;33m(\u001b[0m\u001b[1;33m)\u001b[0m\u001b[1;33m.\u001b[0m\u001b[0msplit\u001b[0m\u001b[1;33m(\u001b[0m\u001b[1;34m'<DOC '\u001b[0m\u001b[1;33m)\u001b[0m\u001b[1;33m\u001b[0m\u001b[1;33m\u001b[0m\u001b[0m\n\u001b[0;32m     38\u001b[0m \u001b[1;33m\u001b[0m\u001b[0m\n",
      "\u001b[1;31mPermissionError\u001b[0m: [Errno 13] Permission denied: '/Users/zjshe/Documents/01. ECU MS CS/02. Spring 2022/02. CSCI 6030/03. Assignments/02. Programming Assignments/02-programming-assignment/All Files'"
     ]
    }
   ],
   "source": [
    "#File path used to read Corpus\n",
    "dir_path = '/Users/zjshe/Documents/01. ECU MS CS/02. Spring 2022/02. CSCI 6030/03. Assignments/02. Programming Assignments/02-programming-assignment/All Files'\n",
    "\n",
    "#Defining PorterStemmer\n",
    "ps = PorterStemmer()\n",
    "\n",
    "#Preliminary items for Inverted and positional Dictionaries\n",
    "docLength = []\n",
    "dictionary = []\n",
    "\n",
    "inverted_processed_dict = []\n",
    "positional_processed_dict = []\n",
    "\n",
    "#Method for opening, reading, and encoding files from Corpus\n",
    "def readFile(filename):\n",
    "    with open(filename, \"r\", encoding='mac_roman') as f:\n",
    "        dirtyTxt = f.read()\n",
    " \n",
    "    f.close()\n",
    "\n",
    "    return dirtyTxt\n",
    "\n",
    "\n",
    "# Method for normalization and stemming of Corpus\n",
    "def normalizeTxt(dirtyTxt):\n",
    "    #text_lower = text.lower()\n",
    "    \n",
    "    #Tokenization\n",
    "        tokenList = word_tokenize(dirtyTxt)\n",
    "    \n",
    "        filtered_sentence = []\n",
    "        punctuations=\"?:!.,;[]\"\n",
    "        alphabet='[a-zA-z]+'\n",
    "        tokenList = [word for word in tokenList if word.isalpha()]\n",
    "    \n",
    "    \n",
    "        #Stemming\n",
    "        stemedList = []\n",
    "        for word in tokenList:\n",
    "            stemedList.append(ps.stem(word))\n",
    "            pos=enumerate(stemedList, start=1)\n",
    "            return stemedList\n",
    "        dictionary.append(stemedList)\n",
    "        docLength.append(len(stemedList))\n",
    "        \n",
    "#Building the Dictionaries        \n",
    "        \n",
    "    for stemedList in dictionary\n",
    "        inv_tokens = []\n",
    "        pos_tokens = []\n",
    "    \n",
    "        for token in stemedListlist:\n",
    "            pos_tokens.append(token.casefold())\n",
    "            inv_tokens.append(token)\n",
    "\n",
    "#Building inverted index\n",
    "    Inverted_index() = {}\n",
    "    docID = 0\n",
    "\n",
    "    for tokenlist in inverted_stemmed_dict:\n",
    "        for token in tokenlist:\n",
    "            if token not in Inverted_index:\n",
    "                Inverted_index[token] = []\n",
    "            \n",
    "            if docID not in Inverted_index[token]:\n",
    "                Inverted_index[token].append(docID)\n",
    "    \n",
    "        docID += 1\n",
    "\n",
    "#Building positional index\n",
    "    Positional_Index = {}\n",
    "    \n",
    "    \n",
    "def main():\n",
    "    pInvertedIndex = positionalInvertedIndexCreation()\n",
    "    tupleOfPII = printPositionalInvertedIndex(pInvertedIndex)\n",
    "    print(pInvertedIndex)\n",
    "    \n",
    "    for root, subdirectories, files in os.walk(dir_path):\n",
    "            for file in files:\n",
    "                #docID += 1\n",
    "                filename = os.fsdecode(file)\n",
    "                if(filename.endswith(\".txt\")):\n",
    "                    currFile = root + \"/\" + filename\n",
    "                    #print(currFile)\n",
    "                    tmpFile = readFile(currFile)\n",
    "                    #print(tmpFile)\n",
    "                    cleanTxt = normalizeTxt(tmpFile)\n",
    "                    print(cleanTxt)\n",
    "        \n",
    "if __name__ == \"__main__\":\n",
    "    main()"
   ]
  },
  {
   "cell_type": "code",
   "execution_count": null,
   "id": "8b3d02d5",
   "metadata": {},
   "outputs": [],
   "source": []
  }
 ],
 "metadata": {
  "kernelspec": {
   "display_name": "Python 3 (ipykernel)",
   "language": "python",
   "name": "python3"
  },
  "language_info": {
   "codemirror_mode": {
    "name": "ipython",
    "version": 3
   },
   "file_extension": ".py",
   "mimetype": "text/x-python",
   "name": "python",
   "nbconvert_exporter": "python",
   "pygments_lexer": "ipython3",
   "version": "3.9.7"
  }
 },
 "nbformat": 4,
 "nbformat_minor": 5
}
