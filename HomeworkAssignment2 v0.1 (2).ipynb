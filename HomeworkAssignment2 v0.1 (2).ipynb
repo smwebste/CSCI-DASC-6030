{
 "cells": [
  {
   "cell_type": "code",
   "execution_count": 32,
   "id": "d6922f2c",
   "metadata": {},
   "outputs": [
    {
     "name": "stderr",
     "output_type": "stream",
     "text": [
      "[nltk_data] Downloading package wordnet to\n",
      "[nltk_data]     C:\\Users\\zjshe\\AppData\\Roaming\\nltk_data...\n",
      "[nltk_data]   Package wordnet is already up-to-date!\n",
      "[nltk_data] Downloading package punkt to\n",
      "[nltk_data]     C:\\Users\\zjshe\\AppData\\Roaming\\nltk_data...\n",
      "[nltk_data]   Package punkt is already up-to-date!\n"
     ]
    },
    {
     "data": {
      "text/plain": [
       "True"
      ]
     },
     "execution_count": 32,
     "metadata": {},
     "output_type": "execute_result"
    }
   ],
   "source": [
    "#Preliminaries\n",
    "import os\n",
    "from os import path\n",
    "from os.path import isfile, join\n",
    "from collections import defaultdict\n",
    "import sys\n",
    "import re\n",
    "import json\n",
    "import string\n",
    "import nltk\n",
    "from nltk.tokenize import word_tokenize\n",
    "from nltk.stem import PorterStemmer\n",
    "from nltk.tokenize import TweetTokenizer\n",
    "from nltk.stem import WordNetLemmatizer\n",
    "\n",
    "nltk.download('wordnet')\n",
    "nltk.download('punkt')"
   ]
  },
  {
   "cell_type": "code",
   "execution_count": 115,
   "id": "fc8e4047",
   "metadata": {
    "scrolled": false
   },
   "outputs": [
    {
     "name": "stdout",
     "output_type": "stream",
     "text": [
      "\n",
      "Please find below inverted index for given document :\n",
      "\n"
     ]
    },
    {
     "ename": "TypeError",
     "evalue": "'NoneType' object is not iterable",
     "output_type": "error",
     "traceback": [
      "\u001b[1;31m---------------------------------------------------------------------------\u001b[0m",
      "\u001b[1;31mTypeError\u001b[0m                                 Traceback (most recent call last)",
      "\u001b[1;32m~\\AppData\\Local\\Temp/ipykernel_42768/1111466529.py\u001b[0m in \u001b[0;36m<module>\u001b[1;34m\u001b[0m\n\u001b[0;32m    117\u001b[0m \u001b[1;33m\u001b[0m\u001b[0m\n\u001b[0;32m    118\u001b[0m \u001b[1;32mif\u001b[0m \u001b[0m__name__\u001b[0m \u001b[1;33m==\u001b[0m \u001b[1;34m\"__main__\"\u001b[0m\u001b[1;33m:\u001b[0m\u001b[1;33m\u001b[0m\u001b[1;33m\u001b[0m\u001b[0m\n\u001b[1;32m--> 119\u001b[1;33m     \u001b[0mmain\u001b[0m\u001b[1;33m(\u001b[0m\u001b[1;33m)\u001b[0m\u001b[1;33m\u001b[0m\u001b[1;33m\u001b[0m\u001b[0m\n\u001b[0m",
      "\u001b[1;32m~\\AppData\\Local\\Temp/ipykernel_42768/1111466529.py\u001b[0m in \u001b[0;36mmain\u001b[1;34m()\u001b[0m\n\u001b[0;32m    102\u001b[0m \u001b[1;33m\u001b[0m\u001b[0m\n\u001b[0;32m    103\u001b[0m     \u001b[0mpInvertedIndex\u001b[0m \u001b[1;33m=\u001b[0m \u001b[0mpositionalInvertedIndexCreation\u001b[0m\u001b[1;33m(\u001b[0m\u001b[1;33m)\u001b[0m\u001b[1;33m\u001b[0m\u001b[1;33m\u001b[0m\u001b[0m\n\u001b[1;32m--> 104\u001b[1;33m     \u001b[0mtupleOfPII\u001b[0m \u001b[1;33m=\u001b[0m \u001b[0mprintPositionalInvertedIndex\u001b[0m\u001b[1;33m(\u001b[0m\u001b[0mpInvertedIndex\u001b[0m\u001b[1;33m)\u001b[0m\u001b[1;33m\u001b[0m\u001b[1;33m\u001b[0m\u001b[0m\n\u001b[0m\u001b[0;32m    105\u001b[0m \u001b[1;33m\u001b[0m\u001b[0m\n\u001b[0;32m    106\u001b[0m     \u001b[1;32mfor\u001b[0m \u001b[0mroot\u001b[0m\u001b[1;33m,\u001b[0m \u001b[0msubdirectories\u001b[0m\u001b[1;33m,\u001b[0m \u001b[0mfiles\u001b[0m \u001b[1;32min\u001b[0m \u001b[0mos\u001b[0m\u001b[1;33m.\u001b[0m\u001b[0mwalk\u001b[0m\u001b[1;33m(\u001b[0m\u001b[0mdir_path\u001b[0m\u001b[1;33m)\u001b[0m\u001b[1;33m:\u001b[0m\u001b[1;33m\u001b[0m\u001b[1;33m\u001b[0m\u001b[0m\n",
      "\u001b[1;32m~\\AppData\\Local\\Temp/ipykernel_42768/1111466529.py\u001b[0m in \u001b[0;36mprintPositionalInvertedIndex\u001b[1;34m(pInvertedIndex)\u001b[0m\n\u001b[0;32m     74\u001b[0m \u001b[1;33m\u001b[0m\u001b[0m\n\u001b[0;32m     75\u001b[0m     \u001b[0mprint\u001b[0m \u001b[1;33m(\u001b[0m\u001b[1;34m\"\\nPlease find below inverted index for given document :\\n\"\u001b[0m\u001b[1;33m)\u001b[0m\u001b[1;33m\u001b[0m\u001b[1;33m\u001b[0m\u001b[0m\n\u001b[1;32m---> 76\u001b[1;33m     \u001b[1;32mfor\u001b[0m \u001b[0marray\u001b[0m \u001b[1;32min\u001b[0m \u001b[0mpInvertedIndex\u001b[0m\u001b[1;33m:\u001b[0m                                                       \u001b[1;31m# Printing Inverted Index\u001b[0m\u001b[1;33m\u001b[0m\u001b[1;33m\u001b[0m\u001b[0m\n\u001b[0m\u001b[0;32m     77\u001b[0m         \u001b[0mtotalCount\u001b[0m \u001b[1;33m=\u001b[0m \u001b[0mlen\u001b[0m\u001b[1;33m(\u001b[0m\u001b[0mpInvertedIndex\u001b[0m\u001b[1;33m[\u001b[0m\u001b[0marray\u001b[0m\u001b[1;33m]\u001b[0m\u001b[1;33m)\u001b[0m                                        \u001b[1;31m# Getting DF\u001b[0m\u001b[1;33m\u001b[0m\u001b[1;33m\u001b[0m\u001b[0m\n\u001b[0;32m     78\u001b[0m \u001b[1;33m\u001b[0m\u001b[0m\n",
      "\u001b[1;31mTypeError\u001b[0m: 'NoneType' object is not iterable"
     ]
    }
   ],
   "source": [
    "#File path used to read Corpus\n",
    "dir_path = '/Users/zjshe/Documents/01. ECU MS CS/02. Spring 2022/02. CSCI 6030/03. Assignments/02. Programming Assignments/02-programming-assignment/All Files'\n",
    "\n",
    "#Defining PorterStemmer\n",
    "ps = PorterStemmer()\n",
    "\n",
    "#List to store words\n",
    "mylist = []\n",
    "\n",
    "#Method for opening, reading, and encoding files from Corpus\n",
    "def readFile(filename):\n",
    "    with open(filename, \"r\", encoding='mac_roman') as f:\n",
    "        dirtyTxt = f.read()\n",
    "        \n",
    "    f.close()\n",
    "\n",
    "    return dirtyTxt\n",
    "\n",
    "\n",
    "\n",
    "\n",
    "# Method for normalization and stemming of Corpus\n",
    "def normalizeTxt(dirtyTxt):\n",
    "    #text_lower = text.lower()\n",
    "    \n",
    "    #Tokenization\n",
    "        tokenList = word_tokenize(dirtyTxt)\n",
    "    \n",
    "        filtered_sentence = []\n",
    "        punctuations=\"?:!.,;[]\"\n",
    "        alphabet='[a-zA-z]+'\n",
    "        tokenList = [word for word in tokenList if word.isalpha()]\n",
    "    \n",
    "    \n",
    "        #Stemming\n",
    "        stemedList = []\n",
    "        for word in tokenList:\n",
    "            stemedList.append(ps.stem(word))\n",
    "            return stemedList\n",
    "        \n",
    "def positionalInvertedIndexCreation():\n",
    "    #This function is used for creation of positional inverted index on the basis of given dataset path#\n",
    "\n",
    "    def readFile(file):\n",
    "        with open(file, \"r\") as f:\n",
    "            dirtyTxt = f.read().split('<DOC ')\n",
    "    \n",
    "        documentArray=[]\n",
    "        i = 1\n",
    "        while i in range(len(dirtyTxt)) :\n",
    "\n",
    "            docArray = dirtyTxt[i].split(\">\")\n",
    "            docID = docArray[0]                                 # Getting Document ID\n",
    "            myDocument = docArray[1].split(\"</DOC\")\n",
    "            eachDocument = str(myDocument[0])                   # Getting complete document corresponding to collected document ID\n",
    "\n",
    "            preprocessedDoc = normalizeTxt(eachDocument)           # Preprocessing of documents\n",
    "            sentence = preprocessedDoc.split()\n",
    "\n",
    "            documentArray.append(sentence)\n",
    "            i = i+1\n",
    "\n",
    "        dic = defaultdict(lambda: [])\n",
    "        for docNumber, word in enumerate(documentArray):        # Getting positions of the terms\n",
    "            for term in set(word):\n",
    "                dic[term].append([docNumber] + [index for index, element in enumerate(word) if element == term])\n",
    "\n",
    "        return dic\n",
    "\n",
    "\n",
    "def printPositionalInvertedIndex(pInvertedIndex):\n",
    "    #This function is used for printing created inverted index#\n",
    "    saveFinalEntry = ()\n",
    "\n",
    "    print (\"\\nPlease find below inverted index for given document :\\n\")\n",
    "    for array in pInvertedIndex:                                                       # Printing Inverted Index\n",
    "        totalCount = len(pInvertedIndex[array])                                        # Getting DF\n",
    "\n",
    "        size = len(array)-1\n",
    "        docs = pInvertedIndex[array]\n",
    "        size = 0\n",
    "        entry = \"\"\n",
    "        saveEntry = ()\n",
    "\n",
    "        for everyEntry in docs:                                                 # This loop stores Positinal Inverted Index in proper format\n",
    "            everyEntry[0]=everyEntry[0]+1\n",
    "            count = len(everyEntry)-1\n",
    "            everyEntry.insert(1,count)\n",
    "            size = size + everyEntry[1]\n",
    "            singleTupleEntry =  \"{\" + str(everyEntry[0]) + \",\" + str(everyEntry[1]) + \":\" + str(everyEntry[2:]) + \"}\"\n",
    "            saveTupleEntry = str(everyEntry[0]) , str(everyEntry[1]) , str(everyEntry[2:])\n",
    "            entry += singleTupleEntry\n",
    "            saveEntry += saveTupleEntry\n",
    "        finalEntry = \"[\" + array + \":\" + str(totalCount) + \"] \\t -> \\t\" + entry\n",
    "        saveFinalEntry = saveFinalEntry + (array, totalCount , saveEntry)\n",
    "        print (finalEntry)\n",
    "    return saveFinalEntry       \n",
    "    \n",
    "    \n",
    "    \n",
    "def main():\n",
    "    \n",
    "    pInvertedIndex = positionalInvertedIndexCreation()\n",
    "    tupleOfPII = printPositionalInvertedIndex(pInvertedIndex)\n",
    "\n",
    "    for root, subdirectories, files in os.walk(dir_path):\n",
    "            for file in files:\n",
    "                #docID += 1\n",
    "                filename = os.fsdecode(file)\n",
    "                if(filename.endswith(\".txt\")):\n",
    "                    currFile = root + \"/\" + filename\n",
    "                    #print(currFile)\n",
    "                    tmpFile = readFile(currFile)\n",
    "                    #print(tmpFile)\n",
    "                    cleanTxt = normalizeTxt(tmpFile)\n",
    "                    \n",
    "        \n",
    "if __name__ == \"__main__\":\n",
    "    main()"
   ]
  },
  {
   "cell_type": "code",
   "execution_count": null,
   "id": "60ea7320",
   "metadata": {},
   "outputs": [],
   "source": []
  }
 ],
 "metadata": {
  "kernelspec": {
   "display_name": "Python 3 (ipykernel)",
   "language": "python",
   "name": "python3"
  },
  "language_info": {
   "codemirror_mode": {
    "name": "ipython",
    "version": 3
   },
   "file_extension": ".py",
   "mimetype": "text/x-python",
   "name": "python",
   "nbconvert_exporter": "python",
   "pygments_lexer": "ipython3",
   "version": "3.9.7"
  }
 },
 "nbformat": 4,
 "nbformat_minor": 5
}
