{
 "cells": [
  {
   "cell_type": "code",
   "execution_count": 241,
   "metadata": {},
   "outputs": [
    {
     "name": "stderr",
     "output_type": "stream",
     "text": [
      "[nltk_data] Downloading package wordnet to\n",
      "[nltk_data]     /Users/seymonegugneja/nltk_data...\n",
      "[nltk_data]   Package wordnet is already up-to-date!\n",
      "[nltk_data] Downloading package punkt to\n",
      "[nltk_data]     /Users/seymonegugneja/nltk_data...\n",
      "[nltk_data]   Package punkt is already up-to-date!\n"
     ]
    }
   ],
   "source": [
    "import os\n",
    "import string\n",
    "import nltk\n",
    "from nltk.tokenize import word_tokenize\n",
    "from nltk.stem import PorterStemmer\n",
    "from nltk.tokenize import TweetTokenizer\n",
    "from nltk.stem import WordNetLemmatizer\n",
    "\n",
    "nltk.download('wordnet')\n",
    "nltk.download('punkt')\n",
    "\n",
    "dir_path = \"/Users/seymonegugneja/Desktop/4130/prog-assg-2/corpus\"\n",
    "\n",
    "def readFile(filename):\n",
    "    with open(filename, \"r\", encoding='mac_roman') as f:\n",
    "        dirtyTxt = f.read()\n",
    " \n",
    "    f.close()\n",
    "\n",
    "    return dirtyTxt\n",
    "\n",
    "def normalizeTxt(dirtyTxt):\n",
    "    text_lower = text.lower()\n",
    "    \n",
    "    #to remove punctuation\n",
    "    noPuncString = re.sub(r'[^\\w\\s]','', text_lower)\n",
    "    \n",
    "    #stemming\n",
    "    ps = PorterStemmer()\n",
    "    stemming = [ps.stem(word) for word in lst_string]\n",
    "\n",
    "\n",
    "def main():\n",
    "    for root, subdirectories, files in os.walk(dir_path):\n",
    "            for file in files:\n",
    "\n",
    "    #             docID += 1\n",
    "\n",
    "                filename = os.fsdecode(file)\n",
    "                if(filename.endswith(\".txt\")):\n",
    "                    currFile = root + \"/\" + filename\n",
    "#                     print(currFile)\n",
    "                    tmpFile = readFile(currFile)\n",
    "#                     print(tmpFile)\n",
    "    #                 cleanTxt = normalizeTxt(tmpFile)\n",
    "    \n",
    "if __name__ == \"__main__\":\n",
    "    main()"
   ]
  },
  {
   "cell_type": "code",
   "execution_count": null,
   "metadata": {},
   "outputs": [],
   "source": []
  }
 ],
 "metadata": {
  "kernelspec": {
   "display_name": "Python 3",
   "language": "python",
   "name": "python3"
  },
  "language_info": {
   "codemirror_mode": {
    "name": "ipython",
    "version": 3
   },
   "file_extension": ".py",
   "mimetype": "text/x-python",
   "name": "python",
   "nbconvert_exporter": "python",
   "pygments_lexer": "ipython3",
   "version": "3.7.4"
  }
 },
 "nbformat": 4,
 "nbformat_minor": 2
}
