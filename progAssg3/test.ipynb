{
 "cells": [
  {
   "cell_type": "code",
   "execution_count": 24,
   "metadata": {},
   "outputs": [
    {
     "name": "stdout",
     "output_type": "stream",
     "text": [
      "['cran.all.1400', 'cranqrel', 'cran.qry', 'cranqrel.readme']\n"
     ]
    },
    {
     "ename": "AttributeError",
     "evalue": "'function' object has no attribute 'content'",
     "output_type": "error",
     "traceback": [
      "\u001b[0;31m---------------------------------------------------------------------------\u001b[0m",
      "\u001b[0;31mAttributeError\u001b[0m                            Traceback (most recent call last)",
      "\u001b[0;32m<ipython-input-24-18d6d5b22ccf>\u001b[0m in \u001b[0;36m<module>\u001b[0;34m\u001b[0m\n\u001b[1;32m     22\u001b[0m     \u001b[0;32mreturn\u001b[0m \u001b[0mcontent\u001b[0m\u001b[0;34m\u001b[0m\u001b[0;34m\u001b[0m\u001b[0m\n\u001b[1;32m     23\u001b[0m \u001b[0;34m\u001b[0m\u001b[0m\n\u001b[0;32m---> 24\u001b[0;31m \u001b[0mtitles\u001b[0m \u001b[0;34m=\u001b[0m \u001b[0mre\u001b[0m\u001b[0;34m.\u001b[0m\u001b[0mfindall\u001b[0m\u001b[0;34m(\u001b[0m\u001b[0;34m'.T/n (.*)/n'\u001b[0m\u001b[0;34m,\u001b[0m \u001b[0mreadFile\u001b[0m\u001b[0;34m.\u001b[0m\u001b[0mcontent\u001b[0m\u001b[0;34m.\u001b[0m\u001b[0mread\u001b[0m\u001b[0;34m(\u001b[0m\u001b[0;34m)\u001b[0m\u001b[0;34m)\u001b[0m\u001b[0;34m\u001b[0m\u001b[0;34m\u001b[0m\u001b[0m\n\u001b[0m\u001b[1;32m     25\u001b[0m \u001b[0mabstracts\u001b[0m \u001b[0;34m=\u001b[0m \u001b[0mre\u001b[0m\u001b[0;34m.\u001b[0m\u001b[0mfindall\u001b[0m\u001b[0;34m(\u001b[0m\u001b[0;34m'.A/n (.*)/n'\u001b[0m\u001b[0;34m,\u001b[0m \u001b[0mreadFile\u001b[0m\u001b[0;34m.\u001b[0m\u001b[0mcontent\u001b[0m\u001b[0;34m.\u001b[0m\u001b[0mread\u001b[0m\u001b[0;34m(\u001b[0m\u001b[0;34m)\u001b[0m\u001b[0;34m)\u001b[0m\u001b[0;34m\u001b[0m\u001b[0;34m\u001b[0m\u001b[0m\n\u001b[1;32m     26\u001b[0m \u001b[0;34m\u001b[0m\u001b[0m\n",
      "\u001b[0;31mAttributeError\u001b[0m: 'function' object has no attribute 'content'"
     ]
    }
   ],
   "source": [
    "import sys\n",
    "import os\n",
    "import re\n",
    "\n",
    "corpusDir = '/Users/seymonegugneja/desktop/4130/progAssg3/cranfield-corpus'\n",
    "\n",
    "corpusArr = []\n",
    "arr = os.listdir(corpusDir)\n",
    "for i in arr:\n",
    "    corpusArr.append(i)\n",
    "print(corpusArr)\n",
    "\n",
    "corpus = corpusDir+'/cran.all.1400'\n",
    "# f = open(corpus, \"r\")\n",
    "# print(f.read())\n",
    "\n",
    "def readFile(filename):\n",
    "    with open(corpus, \"r\", encoding='mac_roman') as f:\n",
    "        content = f.read()\n",
    "    f.close()\n",
    "\n",
    "    return content\n",
    "\n",
    "titles = re.findall('.T/n (.*)/n', readFile.content.read())\n",
    "abstracts = re.findall('.A/n (.*)/n', readFile.content.read())\n",
    "\n",
    "titlesList = []\n",
    "for i in readFile(corpus):\n",
    "    titlesList.append(title)\n",
    "print(titlesList)\n",
    "# print(readFile(corpus))\n"
   ]
  },
  {
   "cell_type": "code",
   "execution_count": 9,
   "metadata": {},
   "outputs": [],
   "source": [
    "# names = re.findall(‘><A HREF=”(.*)”>’, text)\n",
    "# titles = re.findall('.T/n (.*)/n', corpus)\n",
    "# abstracts = re.findall('.A/n (.*)/n', corpus)\n",
    "\n",
    "\n",
    "# for i in f.read():\n",
    "#     print(i)"
   ]
  },
  {
   "cell_type": "code",
   "execution_count": null,
   "metadata": {},
   "outputs": [],
   "source": []
  }
 ],
 "metadata": {
  "kernelspec": {
   "display_name": "Python 3",
   "language": "python",
   "name": "python3"
  },
  "language_info": {
   "codemirror_mode": {
    "name": "ipython",
    "version": 3
   },
   "file_extension": ".py",
   "mimetype": "text/x-python",
   "name": "python",
   "nbconvert_exporter": "python",
   "pygments_lexer": "ipython3",
   "version": "3.7.4"
  }
 },
 "nbformat": 4,
 "nbformat_minor": 2
}
